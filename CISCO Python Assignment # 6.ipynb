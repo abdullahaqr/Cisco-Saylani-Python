{
 "cells": [
  {
   "cell_type": "markdown",
   "metadata": {},
   "source": [
    "## Question 1: Define Object Oriented Programming Language? "
   ]
  },
  {
   "cell_type": "markdown",
   "metadata": {},
   "source": [
    " **Definition :** One of the popular approach to solve a programming problem is by creating *objects*. This is known as ***Object-Oriented Programming (OOP)***."
   ]
  },
  {
   "cell_type": "markdown",
   "metadata": {},
   "source": [
    "## Question 2: List down the Benefits of OOP? "
   ]
  },
  {
   "cell_type": "markdown",
   "metadata": {},
   "source": [
    "**Some benefits of OOP are listed below :**\n",
    "1. It helps to model real life problem.\n",
    "2. Development is faster and cheaper, with better software maintainability.\n",
    "3. It provides a simple way to solve complex problems.\n",
    "4. This, in turn, leads to higher-quality software, which is also extensible with new methods and attributes.\n",
    "5. It helps in polymorphism, relates with many object.\n",
    "5. OOP offers easy to understand and a clear modular structure for programs.\n",
    "7. Objects created for Object-Oriented Programs can be reused in other programs.Thus it saves significant development cost.\n",
    "8. Large programs are difficult to write, but if the development and designing team follow OOPS concept then they can          better design with minimum flaws.\n",
    "9. It also enhances program modularity because every object exists independently."
   ]
  },
  {
   "cell_type": "markdown",
   "metadata": {},
   "source": [
    "## Question 3: Differentiate between function and method? "
   ]
  },
  {
   "cell_type": "markdown",
   "metadata": {},
   "source": [
    "### **Function :**\n",
    "A **function** is independent of an *object* . A **function** is a piece of code that is called by name. It can be passed data to operate on (i.e. the parameters) and can optionally return data (the return value). All data that is passed to a function is explicitly passed.\n",
    "### **Method :**\n",
    "A **method** is on an *object* . A **method** is a piece of code that is called by a name that is associated with an *object*. In most respects it is identical to a **function** except for two key differences:\n",
    "\n",
    "1. A **method** is implicitly passed the *object* on which it was called.\n",
    "2. A **method** is able to operate on data that is contained within the *class* (remembering that an *object* is an *instance* of a *class* - the *class* is the definition, the *object* is an *instance* of that data).\n",
    "\n",
    "\n"
   ]
  },
  {
   "cell_type": "markdown",
   "metadata": {},
   "source": [
    "## Question 4: Define the following terms:\n",
    "1. Class\n",
    "2. Object\n",
    "3. Attribute\n",
    "4. Behavior "
   ]
  },
  {
   "cell_type": "markdown",
   "metadata": {},
   "source": [
    "### **1. Class :** \n",
    "A **class** is a user defined blueprint or prototype from which *objects* are created.  It represents the set of properties or *methods* that are common to all *objects* of one type.\n",
    "### **2. Object :** \n",
    "A unique *instance* of a data structure that's defined by its *class*. An **object** comprises both data members (*class* variables and *instance* variables) and *methods*.\n",
    "### **3. Attribute :** \n",
    "An **attribute** in a *class* is a variable that is attached to the *class*.\n",
    "### **4. Behavior :**  \n",
    "It is represented by *methods* of an *object*. It also reflects the response of an *object* with other *objects*."
   ]
  },
  {
   "cell_type": "markdown",
   "metadata": {},
   "source": [
    "## Question 5: Write a code in python in which create a class named it Car which have 5 attributes such like (model, color and name etc.) and 3 methods. And create 5 object instance from that class. "
   ]
  },
  {
   "cell_type": "code",
   "execution_count": 11,
   "metadata": {},
   "outputs": [],
   "source": [
    "class Car():\n",
    "    def __init__(self, brand, name, color, model, seatingCapacity):        \n",
    "        #Attributes >>>>>>>>>>>>>>>>>>>>>>>>>>>\n",
    "        self.brand = brand\n",
    "        self.name = name\n",
    "        self.color = color\n",
    "        self.model = model\n",
    "        self.seatingCapacity = seatingCapacity\n",
    "        #####################################\n",
    "        \n",
    "        #Methods>>>>>>>>>>>>>>>>>>>>>>>>>>>>>>>>\n",
    "    def CarDescription(self):\n",
    "        print(f\"The Brand of the car is {self.brand}\")\n",
    "        print(f\"The Name of the car is {self.name}\")\n",
    "        print(f\"The Color of the car is {self.color}\")\n",
    "        print(f\"The Model of the car is {self.model}\")\n",
    "        print(f\"The Seating Capacity of the car is {self.seatingCapacity}\")\n",
    "            \n",
    "    def moving(self):\n",
    "        print(f\"{self.name} is moving with speed\")\n",
    "            \n",
    "    def Applying_break(self):\n",
    "        print(f\"{self.name} is applying breakes\")\n",
    "        ######################################################\n",
    "        ######################################################\n",
    "        \n",
    "#Objects>>>>>>>>>>>>>>>>>>>>>>>>>>>>>>>>>>>>>>>>>>>\n",
    "car1 = Car('Honda','Civic','Black','2019','4')\n",
    "car2 = Car('Toyota','Corolla','White','2018','4')\n",
    "car3 = Car('Suzuki','Cultus','Blue','2014','4')\n",
    "car4 = Car('Honda','Vesel','Gray','2019','4')\n",
    "car5 = Car('Toyota','Prius','Black','2019','4')\n",
    "#####################################################\n"
   ]
  },
  {
   "cell_type": "code",
   "execution_count": 10,
   "metadata": {},
   "outputs": [
    {
     "name": "stdout",
     "output_type": "stream",
     "text": [
      "The Brand of the car is Honda\n",
      "The Name of the car is Civic\n",
      "The Color of the car is Black\n",
      "The Model of the car is 2019\n",
      "The Seating Capacity of the car is 4\n",
      "Civic is moving with speed\n",
      "Civic is applying breakes\n"
     ]
    }
   ],
   "source": [
    "car1.CarDescription()\n",
    "car1.moving()\n",
    "car1.Applying_break()"
   ]
  },
  {
   "cell_type": "code",
   "execution_count": 8,
   "metadata": {},
   "outputs": [
    {
     "name": "stdout",
     "output_type": "stream",
     "text": [
      "The Brand of the car is Toyota\n",
      "The Name of the car is Corolla\n",
      "The Color of the car is White\n",
      "The Model of the car is 2018\n",
      "The Seating Capacity of the car is 4\n",
      "Corolla is moving with speed\n",
      "Corolla is applying breakes\n"
     ]
    }
   ],
   "source": [
    "car2.CarDescription()\n",
    "car2.moving()\n",
    "car2.Applying_break()"
   ]
  },
  {
   "cell_type": "code",
   "execution_count": 7,
   "metadata": {},
   "outputs": [
    {
     "name": "stdout",
     "output_type": "stream",
     "text": [
      "The Brand of the car is Suzuki\n",
      "The Name of the car is Cultus\n",
      "The Color of the car is Blue\n",
      "The Model of the car is 2014\n",
      "The Seating Capacity of the car is 4\n",
      "Cultus is moving with speed\n",
      "Cultus is applying breakes\n"
     ]
    }
   ],
   "source": [
    "car3.CarDescription()\n",
    "car3.moving()\n",
    "car3.Applying_break()\n"
   ]
  },
  {
   "cell_type": "code",
   "execution_count": 9,
   "metadata": {},
   "outputs": [
    {
     "name": "stdout",
     "output_type": "stream",
     "text": [
      "The Brand of the car is Honda\n",
      "The Name of the car is Vesel\n",
      "The Color of the car is Gray\n",
      "The Model of the car is 2019\n",
      "The Seating Capacity of the car is 4\n",
      "Vesel is moving with speed\n",
      "Vesel is applying breakes\n"
     ]
    }
   ],
   "source": [
    "car4.CarDescription()\n",
    "car4.moving()\n",
    "car4.Applying_break()"
   ]
  },
  {
   "cell_type": "code",
   "execution_count": 12,
   "metadata": {},
   "outputs": [
    {
     "name": "stdout",
     "output_type": "stream",
     "text": [
      "The Brand of the car is Toyota\n",
      "The Name of the car is Prius\n",
      "The Color of the car is Black\n",
      "The Model of the car is 2019\n",
      "The Seating Capacity of the car is 4\n",
      "Prius is moving with speed\n",
      "Prius is applying breakes\n"
     ]
    }
   ],
   "source": [
    "car5.CarDescription()\n",
    "car5.moving()\n",
    "car5.Applying_break()"
   ]
  },
  {
   "cell_type": "code",
   "execution_count": null,
   "metadata": {},
   "outputs": [],
   "source": []
  }
 ],
 "metadata": {
  "kernelspec": {
   "display_name": "Python 3",
   "language": "python",
   "name": "python3"
  },
  "language_info": {
   "codemirror_mode": {
    "name": "ipython",
    "version": 3
   },
   "file_extension": ".py",
   "mimetype": "text/x-python",
   "name": "python",
   "nbconvert_exporter": "python",
   "pygments_lexer": "ipython3",
   "version": "3.7.4"
  }
 },
 "nbformat": 4,
 "nbformat_minor": 2
}
