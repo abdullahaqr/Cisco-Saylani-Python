{
 "cells": [
  {
   "cell_type": "markdown",
   "metadata": {},
   "source": [
    "### 1. Write a program which takes 5 inputs from user for different subject’s marks, total it and generate mark sheet using grades ?"
   ]
  },
  {
   "cell_type": "code",
   "execution_count": 26,
   "metadata": {},
   "outputs": [
    {
     "name": "stdout",
     "output_type": "stream",
     "text": [
      "MARKSHEET\n",
      "Enter your name: Abdullah Bin Abdul Qadeer\n",
      "Enter your marks in English: 75\n",
      "Enter your marks in Chemistry: 67\n",
      "Enter your marks in Pakistan Studies: 72\n",
      "Enter your marks in Sindhi: 70\n",
      "Enter your marks in Computer Science: 97\n",
      "381 /500\n",
      "Your percentage is %.2f 76.2 %\n",
      "Grade A\n"
     ]
    }
   ],
   "source": [
    "print(\"MARKSHEET\")\n",
    "name=input(\"Enter your name: \")\n",
    "eng=int(input(\"Enter your marks in English: \"))\n",
    "che=int(input(\"Enter your marks in Chemistry: \"))\n",
    "pak_std=int(input(\"Enter your marks in Pakistan Studies: \"))\n",
    "sindhi=int(input(\"Enter your marks in Sindhi: \"))\n",
    "comp_sci=int(input(\"Enter your marks in Computer Science: \"))\n",
    "total=eng+che+pak_std+sindhi+comp_sci\n",
    "print(total,'/500')\n",
    "per=float((eng+che+pak_std+sindhi+comp_sci)/500)*100\n",
    "print(\"Your percentage is %.2f\",per,\"%\")\n",
    "avg=(total/5)\n",
    "if avg>=80 and avg<=100:\n",
    "    print(\"Grade A1\")\n",
    "elif avg>=70 and avg<=80:\n",
    "    print(\"Grade A\")\n",
    "elif avg>=60 and avg<=70:\n",
    "    print(\"Grade B\")\n",
    "elif avg>=50 and avg<=60:\n",
    "    print(\"Grade C\")\n",
    "else:\n",
    "    print(\"You are fail\")"
   ]
  },
  {
   "cell_type": "markdown",
   "metadata": {},
   "source": [
    "### 2. Write a program which take input from user and identify that the given number is even or odd? "
   ]
  },
  {
   "cell_type": "code",
   "execution_count": 27,
   "metadata": {},
   "outputs": [
    {
     "name": "stdout",
     "output_type": "stream",
     "text": [
      "Enter a number to check it's even or odd : 7\n",
      "7 is Odd\n"
     ]
    }
   ],
   "source": [
    "num = int(input(\"Enter a number to check it's even or odd : \"))\n",
    "if (num % 2) == 0:\n",
    "   print(\"{0} is Even\".format(num))\n",
    "else:\n",
    "   print(\"{0} is Odd\".format(num))"
   ]
  },
  {
   "cell_type": "markdown",
   "metadata": {},
   "source": [
    "### 3. Write a program which print the length of the list? "
   ]
  },
  {
   "cell_type": "code",
   "execution_count": 28,
   "metadata": {},
   "outputs": [
    {
     "name": "stdout",
     "output_type": "stream",
     "text": [
      "length of list is  :  5\n"
     ]
    }
   ],
   "source": [
    "list1 = [123, 'xyz', 'zara', \"Abdullah\", 1997]\n",
    "print (\"length of list is  : \" , len(list1))"
   ]
  },
  {
   "cell_type": "markdown",
   "metadata": {},
   "source": [
    "### 4. Write a Python program to sum all the numeric items in a list? "
   ]
  },
  {
   "cell_type": "code",
   "execution_count": 29,
   "metadata": {},
   "outputs": [
    {
     "name": "stdout",
     "output_type": "stream",
     "text": [
      "The sum of numeric items in a list is :  36\n"
     ]
    }
   ],
   "source": [
    "num_list = [3, 5, 7, 9, 12]\n",
    "total = 0\n",
    "for x in num_list:\n",
    "    total += x\n",
    "print(\"The sum of numeric items in a list is : \",total)"
   ]
  },
  {
   "cell_type": "markdown",
   "metadata": {},
   "source": [
    "### 5. Write a Python program to get the largest number from a numeric list "
   ]
  },
  {
   "cell_type": "code",
   "execution_count": 30,
   "metadata": {},
   "outputs": [
    {
     "name": "stdout",
     "output_type": "stream",
     "text": [
      "Largest element is: 97\n"
     ]
    }
   ],
   "source": [
    "list2 = [3, 5, 78,  7, 9, 97, 12, 75]\n",
    "print(\"Largest element is:\", max(list2)) "
   ]
  },
  {
   "cell_type": "markdown",
   "metadata": {},
   "source": [
    "### 6. Take a list, say for example this one: a = [1, 1, 2, 3, 5, 8, 13, 21, 34, 55, 89] and write a program that prints out all the elements of the list that are less than 5. "
   ]
  },
  {
   "cell_type": "code",
   "execution_count": 31,
   "metadata": {},
   "outputs": [
    {
     "name": "stdout",
     "output_type": "stream",
     "text": [
      "The elements of the list less than 5 are :\n",
      "1\n",
      "1\n",
      "2\n",
      "3\n"
     ]
    }
   ],
   "source": [
    "a = [1, 1, 2, 3, 5, 8, 13, 21, 34, 55, 89]\n",
    "print(\"The elements of the list less than 5 are :\")\n",
    "for n in a:\n",
    "    if n < 5 :\n",
    "        print(n)"
   ]
  },
  {
   "cell_type": "code",
   "execution_count": null,
   "metadata": {},
   "outputs": [],
   "source": []
  }
 ],
 "metadata": {
  "kernelspec": {
   "display_name": "Python 3",
   "language": "python",
   "name": "python3"
  },
  "language_info": {
   "codemirror_mode": {
    "name": "ipython",
    "version": 3
   },
   "file_extension": ".py",
   "mimetype": "text/x-python",
   "name": "python",
   "nbconvert_exporter": "python",
   "pygments_lexer": "ipython3",
   "version": "3.7.3"
  }
 },
 "nbformat": 4,
 "nbformat_minor": 2
}
