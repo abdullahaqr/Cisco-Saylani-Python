{
 "cells": [
  {
   "cell_type": "markdown",
   "metadata": {},
   "source": [
    "### 1. Make a calculator using Python with addition , subtraction , multiplication , division and power. "
   ]
  },
  {
   "cell_type": "code",
   "execution_count": 4,
   "metadata": {},
   "outputs": [
    {
     "name": "stdout",
     "output_type": "stream",
     "text": [
      "\n",
      "Please type in the math operation you would like to complete:\n",
      "+  for addition\n",
      "-  for subtraction\n",
      "*  for multiplication\n",
      "/  for division\n",
      "** for power\n",
      "**\n",
      "Enter your first number: 4\n",
      "Enter your second number: 2\n",
      "4 ** 2 =  16\n"
     ]
    }
   ],
   "source": [
    "operation = input('''\n",
    "Please type in the math operation you would like to complete:\n",
    "+  for addition\n",
    "-  for subtraction\n",
    "*  for multiplication\n",
    "/  for division\n",
    "** for power\n",
    "''')\n",
    "\n",
    "num_1 = int(input('Enter your first number: '))\n",
    "num_2 = int(input('Enter your second number: '))\n",
    "\n",
    "if operation == '+':\n",
    "    print('{} + {} = '.format(num_1, num_2),num_1 + num_2)\n",
    "    \n",
    "elif operation == '-':\n",
    "    print('{} - {} = '.format(num_1, num_2),num_1 - num_2)\n",
    "    \n",
    "elif operation == '*':\n",
    "    print('{} * {} = '.format(num_1, num_2),num_1 * num_2)\n",
    "    \n",
    "elif operation == '/':\n",
    "    print('{} / {} = '.format(num_1, num_2),num_1 / num_2)\n",
    "\n",
    "elif operation == '**':\n",
    "    print('{} ** {} = '.format(num_1, num_2), num_1 ** num_2)\n",
    "        \n",
    "else:\n",
    "    print('You have typed Invalid Syntax !')"
   ]
  },
  {
   "cell_type": "markdown",
   "metadata": {},
   "source": [
    "### 2. Write a program to check if there is any numeric value in list using for loop "
   ]
  },
  {
   "cell_type": "code",
   "execution_count": 11,
   "metadata": {},
   "outputs": [
    {
     "name": "stdout",
     "output_type": "stream",
     "text": [
      "List contain numeric value\n"
     ]
    }
   ],
   "source": [
    "list_1=['1','orange','2','3','3','apple', \"Ali\"]\n",
    "for i in list_1:\n",
    "    a = i.isnumeric()\n",
    "    if a == True:\n",
    "        print(\"List contain numeric value\")\n",
    "        break\n",
    "    else:\n",
    "        print(\"List not contain any numeric value\")\n",
    "        break\n",
    "    "
   ]
  },
  {
   "cell_type": "markdown",
   "metadata": {},
   "source": [
    "### 3. Write a Python script to add a key to a dictionary "
   ]
  },
  {
   "cell_type": "code",
   "execution_count": 13,
   "metadata": {},
   "outputs": [
    {
     "name": "stdout",
     "output_type": "stream",
     "text": [
      "Current Dictionary is:  {'First Name': 'Abdullah', 'Middle Name': 'Bin'}\n",
      "Updated Dict is:  {'First Name': 'Abdullah', 'Middle Name': 'Bin', 'Last Name': 'Abdul Qadeer'}\n"
     ]
    }
   ],
   "source": [
    "dict = {'First Name':'Abdullah', 'Middle Name':'Bin'} \n",
    "print(\"Current Dictionary is: \", dict) \n",
    "   \n",
    "dict['Last Name'] = 'Abdul Qadeer'\n",
    "print(\"Updated Dict is: \", dict) "
   ]
  },
  {
   "cell_type": "markdown",
   "metadata": {},
   "source": [
    "### 4. Write a Python program to sum all the numeric items in a dictionary "
   ]
  },
  {
   "cell_type": "code",
   "execution_count": 17,
   "metadata": {},
   "outputs": [
    {
     "name": "stdout",
     "output_type": "stream",
     "text": [
      "The sum of numeric items in dictionary  {'a': 100, 'b': 200, 'c': 300} is 600\n"
     ]
    }
   ],
   "source": [
    "dict = {'a': 100, 'b':200, 'c':300}  \n",
    "sum = 0\n",
    "\n",
    "for i in dict.values(): \n",
    "    sum = sum + i\n",
    "\n",
    "print(\"The sum of numeric items in dictionary  {} is {}\".format(dict,sum))            "
   ]
  },
  {
   "cell_type": "markdown",
   "metadata": {},
   "source": [
    "### 5. Write a program to identify duplicate values from list "
   ]
  },
  {
   "cell_type": "code",
   "execution_count": 39,
   "metadata": {},
   "outputs": [
    {
     "name": "stdout",
     "output_type": "stream",
     "text": [
      "There are duplicates in this list\n",
      "list of duplicates is :  [3, 9, 12]\n"
     ]
    }
   ],
   "source": [
    "list3 = [ 3, 6, 9, 12, 3, 30, 15, 9, 45, 36, 12, 12]\n",
    "unique = set(list3)  \n",
    "for n in unique:  \n",
    "    count = list3.count(n)  \n",
    "    if count > 1:  \n",
    "        print ('There are duplicates in this list')  \n",
    "        \n",
    "        duplicate = []\n",
    "        uniq = {}\n",
    "        for x in list3:\n",
    "            if x not in uniq:\n",
    "                uniq[x] = 1\n",
    "            else:\n",
    "                if uniq[x] == 1:\n",
    "                    duplicate.append(x)\n",
    "                uniq[x] += 1\n",
    "        print(\"list of duplicates is : \" ,duplicate)\n",
    "        break\n",
    "    else:\n",
    "        print ('There are no duplicates in this list')  \n",
    "        break"
   ]
  },
  {
   "cell_type": "markdown",
   "metadata": {},
   "source": [
    "### 6. Write a Python script to check if a given key already exists in a dictionary "
   ]
  },
  {
   "cell_type": "code",
   "execution_count": 45,
   "metadata": {},
   "outputs": [
    {
     "name": "stdout",
     "output_type": "stream",
     "text": [
      "Enter a key of dictionary :ten\n",
      "Key is present in the dictionary\n"
     ]
    }
   ],
   "source": [
    "dict2 = {'ten': 10, 'twenty': 20, 'thirty': 30, 'forty': 40, 'fifty': 50, 'sixty': 60}\n",
    "x = input(\"Enter a key of dictionary :\")\n",
    "if x in dict2:\n",
    "    print('Key is present in the dictionary')\n",
    "else:\n",
    "    print('Key is not present in the dictionary')\n"
   ]
  },
  {
   "cell_type": "code",
   "execution_count": null,
   "metadata": {},
   "outputs": [],
   "source": []
  }
 ],
 "metadata": {
  "kernelspec": {
   "display_name": "Python 3",
   "language": "python",
   "name": "python3"
  },
  "language_info": {
   "codemirror_mode": {
    "name": "ipython",
    "version": 3
   },
   "file_extension": ".py",
   "mimetype": "text/x-python",
   "name": "python",
   "nbconvert_exporter": "python",
   "pygments_lexer": "ipython3",
   "version": "3.7.3"
  }
 },
 "nbformat": 4,
 "nbformat_minor": 2
}
