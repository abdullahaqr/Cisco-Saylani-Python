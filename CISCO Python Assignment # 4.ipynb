{
 "cells": [
  {
   "cell_type": "markdown",
   "metadata": {},
   "source": [
    "### 1.  Use a dictionary to store information about a person you know. Store their first name, last name, age, and the city in which they live. You should have keys such as first_name, last_name, age, and city. Print each piece of information stored in your dictionary. Add a new key value pair about qualification then update the qualification value to high academic level then delete it."
   ]
  },
  {
   "cell_type": "code",
   "execution_count": 7,
   "metadata": {},
   "outputs": [
    {
     "name": "stdout",
     "output_type": "stream",
     "text": [
      "First name : Obaid \n",
      "Last name : Ur Rahman \n",
      "Age : 22 \n",
      "City : Karachi\n"
     ]
    }
   ],
   "source": [
    "person = {\n",
    "    'first_name': 'Obaid',\n",
    "    'last_name': 'Ur Rahman',\n",
    "    'age': 22,\n",
    "    'city': 'Karachi',\n",
    "    }\n",
    "\n",
    "print(\"First name :\",person['first_name'],\n",
    "   \"\\n Last name :\",person['last_name'],\n",
    "   \"\\n Age :\",person['age'],\n",
    "   \"\\n City :\",person['city'])"
   ]
  },
  {
   "cell_type": "markdown",
   "metadata": {},
   "source": [
    "### 2. Make a dictionary called cities. Use the names of three cities as keys in your dictionary. Create a dictionary of information about each city and include the country that the city is in, its approximate population, and one fact about that city. The keys for each city’s dictionary should be something like country, population, and fact. Print the name of each city and all of the information you have stored about it. "
   ]
  },
  {
   "cell_type": "code",
   "execution_count": 27,
   "metadata": {},
   "outputs": [
    {
     "name": "stdout",
     "output_type": "stream",
     "text": [
      "\n",
      "1. Madinah is the city of Saudi Arabia.\n",
      "  It has a population of about 1459000.\n",
      "  The fact about Madinah is that it is the second holiest city in Islam, after Mecca.\n",
      "\n",
      "2. Karachi is the city of Pakistan.\n",
      "  It has a population of about 15741406.\n",
      "  The fact about Karachi is that it is the Sixth largest city in the world by city population.\n",
      "\n",
      "3. Istanbul is the city of Turkey.\n",
      "  It has a population of about 14968000.\n",
      "  The fact about Istanbul is that it is the only city in the world which is both in Europe and Asia geographicaly.\n"
     ]
    }
   ],
   "source": [
    "cities = {\n",
    "    'madinah': {\n",
    "        'country': 'saudi arabia',\n",
    "        'population': 1459000,\n",
    "        'fact': 'it is the second holiest city in Islam, after Mecca.',\n",
    "        },\n",
    "    'karachi': {\n",
    "        'country': 'pakistan',\n",
    "        'population': 15741406,\n",
    "        'fact': 'it is the Sixth largest city in the world by city population.',\n",
    "        },\n",
    "    'istanbul': {\n",
    "        'country': 'turkey',\n",
    "        'population': 14968000,\n",
    "        'fact': 'it is the only city in the world which is both in Europe and Asia geographicaly.',\n",
    "        }\n",
    "    }\n",
    "n=0\n",
    "for city, city_info in cities.items():\n",
    "    country = city_info['country'].title()\n",
    "    population = city_info['population']\n",
    "    fact = city_info['fact']\n",
    "    n+=1\n",
    "\n",
    "    print(\"\\n\"+ str(n) + \". \" + city.title() + \" is the city of \" + country + \".\")\n",
    "    print(\"  It has a population of about \" + str(population) + \".\")\n",
    "    print(\"  The fact about \" + city.title() + \" is that \"+ fact )"
   ]
  },
  {
   "cell_type": "markdown",
   "metadata": {},
   "source": [
    "### 3. A movie theater charges different ticket prices depending on a person’s age. If a person is under the age of 3, the ticket is free; if they are between 3 and 12, the ticket is  $  10; and if they are over age 12, the ticket is $15. Write a loop in which you ask users their age, and then tell them the cost of their movie ticket. "
   ]
  },
  {
   "cell_type": "code",
   "execution_count": 2,
   "metadata": {},
   "outputs": [
    {
     "name": "stdout",
     "output_type": "stream",
     "text": [
      "How old are you ?\n",
      "Please enter your age\n",
      "Enter 'q' for Quit .\n",
      "2\n",
      "  You get in free !\n",
      "How old are you ?\n",
      "Please enter your age\n",
      "Enter 'q' for Quit .\n",
      "7\n",
      "  Your ticket cost $10\n",
      "How old are you ?\n",
      "Please enter your age\n",
      "Enter 'q' for Quit .\n",
      "17\n",
      "  Your ticket cost $15\n",
      "How old are you ?\n",
      "Please enter your age\n",
      "Enter 'q' for Quit .\n",
      "q\n"
     ]
    }
   ],
   "source": [
    "message = '''How old are you ?\n",
    "Please enter your age\n",
    "Enter 'q' for Quit .\\n'''\n",
    "\n",
    "while True:\n",
    "    age = input(message)\n",
    "    if age == 'q':\n",
    "        break\n",
    "    age = int(age)\n",
    "\n",
    "    if age < 3:\n",
    "        print(\"  You get in free !\")\n",
    "    elif age < 13:\n",
    "        print(\"  Your ticket cost $10\")\n",
    "    else:\n",
    "        print(\"  Your ticket cost $15\")"
   ]
  },
  {
   "cell_type": "markdown",
   "metadata": {},
   "source": [
    "### 4. Write a function called favorite_book() that accepts one parameter, title. The function should print a message, such as One of my favorite books is Alice in Wonderland. Call the function, making sure to include a book title as an argument in the function call. "
   ]
  },
  {
   "cell_type": "code",
   "execution_count": 8,
   "metadata": {},
   "outputs": [
    {
     "name": "stdout",
     "output_type": "stream",
     "text": [
      "Holy Quran is my favorite book\n"
     ]
    }
   ],
   "source": [
    "def favorite_book(title):\n",
    "    print(title + \" is my favorite book\")\n",
    "#>>>>>>>>>>>>>>>>>>>>>>>>>>>>>>>>>>>>>>>>>>>>>>>\n",
    "\n",
    "favorite_book('Holy Quran')"
   ]
  },
  {
   "cell_type": "markdown",
   "metadata": {},
   "source": [
    "### 5. Guess the number game , Write a program which randomly generate a number between 1 to 30 and ask the user in input field to guess the correct number. Give three chances to user guess the number and also give hint to user if hidden number is greater or smaller than the number he given to input field. "
   ]
  },
  {
   "cell_type": "code",
   "execution_count": 7,
   "metadata": {},
   "outputs": [
    {
     "name": "stdout",
     "output_type": "stream",
     "text": [
      "Guess a number between 1 and 30\n",
      "5\n",
      "Try Higher\n",
      "Guess a number between 1 and 30\n",
      "7\n",
      "Try Higher\n",
      "Guess a number between 1 and 30\n",
      "9\n",
      "Try Higher\n",
      " \n",
      "You Loose !!!\n"
     ]
    }
   ],
   "source": [
    "import random\n",
    "num = random.randint(1, 30)\n",
    "for n in range(3):\n",
    "    print('Guess a number between 1 and 30')\n",
    "    guess = input()\n",
    "    i = int(guess)\n",
    "    if i == num:\n",
    "        print(' \\nYou won !!!')\n",
    "        break\n",
    "    elif i < num:\n",
    "        print('Try Higher')\n",
    "    elif i > num:\n",
    "        print('Try Lower')\n",
    "else:\n",
    "    print(\" \\nYou Loose !!!\")"
   ]
  },
  {
   "cell_type": "code",
   "execution_count": null,
   "metadata": {},
   "outputs": [],
   "source": []
  }
 ],
 "metadata": {
  "kernelspec": {
   "display_name": "Python 3",
   "language": "python",
   "name": "python3"
  },
  "language_info": {
   "codemirror_mode": {
    "name": "ipython",
    "version": 3
   },
   "file_extension": ".py",
   "mimetype": "text/x-python",
   "name": "python",
   "nbconvert_exporter": "python",
   "pygments_lexer": "ipython3",
   "version": "3.7.3"
  }
 },
 "nbformat": 4,
 "nbformat_minor": 2
}
