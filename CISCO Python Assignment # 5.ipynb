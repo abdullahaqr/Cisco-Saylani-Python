{
 "cells": [
  {
   "cell_type": "markdown",
   "metadata": {},
   "source": [
    "### 1. Write a Python function to calculate the factorial of a number (a non-negative integer). The function accepts the number as an argument. "
   ]
  },
  {
   "cell_type": "code",
   "execution_count": 20,
   "metadata": {},
   "outputs": [
    {
     "name": "stdout",
     "output_type": "stream",
     "text": [
      "Input a number to calculate the factiorial : 7\n",
      "The factorial of 7 is 85680\n"
     ]
    }
   ],
   "source": [
    "def factorial(n):\n",
    "    if n < 0:\n",
    "        print(\"Sorry, factorial does not exist for negative numbers\")\n",
    "    elif n == 0:\n",
    "        print(\"The factorial of 0 is 1\")\n",
    "    else:\n",
    "        fact=17\n",
    "        \n",
    "        for i in range(1,n + 1):\n",
    "            fact = fact*i\n",
    "        print(\"The factorial of\",n,\"is\",fact)\n",
    "#>>>>>>>>>>>>>>>>>>>>>>>>>>>>>>>>>>>>>>>>>>>>>>>>>>>>>>>>>>>>>>>\n",
    "\n",
    "n=int(input(\"Input a number to calculate the factiorial : \"))\n",
    "factorial(n)"
   ]
  },
  {
   "cell_type": "markdown",
   "metadata": {},
   "source": [
    "### 2. Write a Python function that accepts a string and calculate the number of upper case letters and lower case letters. "
   ]
  },
  {
   "cell_type": "code",
   "execution_count": 39,
   "metadata": {},
   "outputs": [
    {
     "name": "stdout",
     "output_type": "stream",
     "text": [
      "Enter text to calculate number of upper and lower case letters : Abdullah Bin Abdul Qadeer\n",
      "Number of upper case letters : 4 \n",
      "Number of lower case letters : 18 \n"
     ]
    }
   ],
   "source": [
    "def letters_counter(n):\n",
    "    upper=0\n",
    "    lower=0\n",
    "    n=n.replace(\" \",\"\") # using .replace() method to ignore whitespaces otherwise it will count spaces\n",
    "    for i in  range(len(n)):\n",
    "        if (n[i].isupper()):\n",
    "            upper += 1\n",
    "        else:\n",
    "            (n[i].islower())\n",
    "            lower += 1\n",
    "    print(\"Number of upper case letters : {} \\nNumber of lower case letters : {} \".format(upper,lower))        \n",
    "#>>>>>>>>>>>>>>>>>>>>>>>>>>>>>>>>>>>>>>>>>>>>>>>>>>>>>>>>>>>>>>>>>>>>>>>>>>>>>>>>\n",
    "\n",
    "user_input=(input(\"Enter text to calculate number of upper and lower case letters : \"))    \n",
    "letters_counter(user_input)\n"
   ]
  },
  {
   "cell_type": "markdown",
   "metadata": {},
   "source": [
    "### 3. Write a Python function to print the even numbers from a given list. "
   ]
  },
  {
   "cell_type": "code",
   "execution_count": 46,
   "metadata": {},
   "outputs": [
    {
     "name": "stdout",
     "output_type": "stream",
     "text": [
      "Even numbers in given list : \n",
      "2\n",
      "4\n",
      "6\n",
      "8\n",
      "10\n",
      "12\n",
      "14\n",
      "16\n"
     ]
    }
   ],
   "source": [
    "def print_even(i):\n",
    "    num = i % 2  \n",
    "    if(num == 0):\n",
    "        print(i)\n",
    "#>>>>>>>>>>>>>>>>>>>>>>>>>>>>>>>>>>>>>>>>>>>>>>>>>>>\n",
    "\n",
    "numbers_list=[1,2,3,4,5,6,7,8,9,10,11,12,13,14,15,16]\n",
    "print(\"Even numbers in given list : \")\n",
    "for n in numbers_list:\n",
    "    print_even(n)\n",
    "    "
   ]
  },
  {
   "cell_type": "markdown",
   "metadata": {},
   "source": [
    "### 4. Write a Python function that checks whether a passed string is palindrome or not. Note: A palindrome is a word, phrase, or sequence that reads the same backward as forward, e.g., madam"
   ]
  },
  {
   "cell_type": "code",
   "execution_count": 20,
   "metadata": {},
   "outputs": [
    {
     "name": "stdout",
     "output_type": "stream",
     "text": [
      "Enter text : Hello123World dlroW321olleH\n",
      "The text * Hello123World dlroW321olleH * is a palindrome\n"
     ]
    }
   ],
   "source": [
    "def palindrome_checker():\n",
    "    n=input(\"Enter text : \")\n",
    "    rev_input=n[::-1]\n",
    "    if n==rev_input:\n",
    "        print(\"The text *\",n,\"* is a palindrome\") #used asterisk at beginning and end to differenciate the text\n",
    "    else:\n",
    "        print(\"The text *\",n,\"* is not a palindrome\")\n",
    "#>>>>>>>>>>>>>>>>>>>>>>>>>>>>>>>>>>>>>>>>>>>>>>>>>>>>>\n",
    "\n",
    "palindrome_checker()"
   ]
  },
  {
   "cell_type": "markdown",
   "metadata": {},
   "source": [
    "### 5. Write a Python function that takes a number as a parameter and check the number is prime or not. "
   ]
  },
  {
   "cell_type": "code",
   "execution_count": 11,
   "metadata": {},
   "outputs": [
    {
     "name": "stdout",
     "output_type": "stream",
     "text": [
      "Enter number to check : 2\n",
      "2 is a prime number\n"
     ]
    }
   ],
   "source": [
    "def prime_checker():\n",
    "    num = int(input(\"Enter number to check : \")) \n",
    "    if num > 1:   \n",
    "        for i in range(2, num):\n",
    "            if (num % i) == 0: \n",
    "                print(num, \"is not a prime number\") \n",
    "                break\n",
    "        else: \n",
    "            print(num, \"is a prime number\") \n",
    "    else: \n",
    "        print(num, \"is not a prime number\")\n",
    "#>>>>>>>>>>>>>>>>>>>>>>>>>>>>>>>>>>>>>>>>>>>>>>>>>>>>>>\n",
    "\n",
    "prime_checker()"
   ]
  },
  {
   "cell_type": "markdown",
   "metadata": {},
   "source": [
    "### 6. Suppose a customer is shopping in a market and you need to print all the items which user bought from market. Write a function which accepts the multiple arguments of user shopping list and print all the items which user bought from market. (Hint: Arbitrary Argument concept can make this task ease) "
   ]
  },
  {
   "cell_type": "code",
   "execution_count": 14,
   "metadata": {},
   "outputs": [
    {
     "name": "stdout",
     "output_type": "stream",
     "text": [
      "You purchased : \n",
      "1. shampoo\n",
      "2. cooking oil\n",
      "3. fruits\n",
      "4. eggs\n",
      "5. bread\n"
     ]
    }
   ],
   "source": [
    "def bought_items(*items):\n",
    "    shopping_list = []\n",
    "    for x in items:\n",
    "        shopping_list.append(x)\n",
    "    n=0\n",
    "    print(\"You purchased : \")\n",
    "    for i in range(len(shopping_list)):\n",
    "        n+=1\n",
    "        print(\"{}. {}\".format(n,shopping_list[i]))\n",
    "#>>>>>>>>>>>>>>>>>>>>>>>>>>>>>>>>>>>>>>>>>>>>>>>>>>>>>>>>>>>>>>>>>>>>>>>>>>>>>>        \n",
    "\n",
    "bought_items(\"shampoo\",\"cooking oil\",\"fruits\",\"eggs\",\"bread\")"
   ]
  },
  {
   "cell_type": "code",
   "execution_count": 13,
   "metadata": {},
   "outputs": [
    {
     "name": "stdout",
     "output_type": "stream",
     "text": [
      "Enter bought item \n",
      "Enter 'q' to Quit : shampoo\n",
      "Enter bought item \n",
      "Enter 'q' to Quit : cooking oil\n",
      "Enter bought item \n",
      "Enter 'q' to Quit : fruits\n",
      "Enter bought item \n",
      "Enter 'q' to Quit : eggs\n",
      "Enter bought item \n",
      "Enter 'q' to Quit : bread\n",
      "Enter bought item \n",
      "Enter 'q' to Quit : q\n",
      "You purchased : \n",
      "1. shampoo\n",
      "2. cooking oil\n",
      "3. fruits\n",
      "4. eggs\n",
      "5. bread\n"
     ]
    }
   ],
   "source": [
    "def bought_items():\n",
    "    shopping_list = []\n",
    "    while True:\n",
    "        user_input = input('''Enter bought item \\nEnter 'q' to Quit : ''')\n",
    "        if user_input != 'q':\n",
    "            shopping_list.append(user_input)\n",
    "        else:\n",
    "            break\n",
    "    n=0\n",
    "    print(\"You purchased : \")\n",
    "    for i in range(len(shopping_list)):\n",
    "        n+=1\n",
    "        print(\"{}. {}\".format(n,shopping_list[i]))\n",
    "#>>>>>>>>>>>>>>>>>>>>>>>>>>>>>>>>>>>>>>>>>>>>>>>>>>>>>>>>>>>>>>>>>>>>>>>>>>>>>>        \n",
    "\n",
    "bought_items()"
   ]
  }
 ],
 "metadata": {
  "kernelspec": {
   "display_name": "Python 3",
   "language": "python",
   "name": "python3"
  },
  "language_info": {
   "codemirror_mode": {
    "name": "ipython",
    "version": 3
   },
   "file_extension": ".py",
   "mimetype": "text/x-python",
   "name": "python",
   "nbconvert_exporter": "python",
   "pygments_lexer": "ipython3",
   "version": "3.7.4"
  }
 },
 "nbformat": 4,
 "nbformat_minor": 2
}
